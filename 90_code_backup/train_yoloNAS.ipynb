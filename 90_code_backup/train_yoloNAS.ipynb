{
 "cells": [
  {
   "cell_type": "code",
   "execution_count": 3,
   "metadata": {},
   "outputs": [],
   "source": [
    "from super_gradients.common.object_names import Models\n",
    "from super_gradients.training import Trainer, models\n",
    "from super_gradients.training.metrics.classification_metrics import Accuracy, Top5\n",
    "from super_gradients.training.dataloaders.dataloaders import cifar10_train, cifar10_val\n"
   ]
  },
  {
   "cell_type": "code",
   "execution_count": 5,
   "metadata": {},
   "outputs": [],
   "source": [
    "trainer = Trainer(experiment_name=\"demo-train-with-test\")\n",
    "model = models.get(Models.YOLO_NAS_L, num_classes=1)\n"
   ]
  },
  {
   "cell_type": "code",
   "execution_count": null,
   "metadata": {},
   "outputs": [],
   "source": [
    "\n",
    "training_params = {\n",
    "    \"max_epochs\": 20,\n",
    "    \"lr_updates\": [5, 10, 15],\n",
    "    \"lr_decay_factor\": 0.1,\n",
    "    \"lr_mode\": \"step\",\n",
    "    \"initial_lr\": 0.1,\n",
    "    \"loss\": \"CrossEntropyLoss\",\n",
    "    \"optimizer\": \"SGD\",\n",
    "    \"optimizer_params\": {\"weight_decay\": 1e-4, \"momentum\": 0.9},\n",
    "    \"train_metrics_list\": [Accuracy(), Top5()],\n",
    "    \"valid_metrics_list\": [Accuracy(), Top5()],\n",
    "    \"metric_to_watch\": \"Accuracy\",\n",
    "}\n",
    "\n",
    "trainer.train(\n",
    "    model=model,\n",
    "    training_params=training_params,\n",
    "    train_loader=cifar10_train(),\n",
    "    valid_loader=cifar10_val(),\n",
    "    test_loaders={\n",
    "        \"Copy of train\": cifar10_val(),\n",
    "        \"Copy of valid\": cifar10_val(),\n",
    "    },  # For the sake of the example, we are testing on the training and validation set.\n",
    ")"
   ]
  }
 ],
 "metadata": {
  "kernelspec": {
   "display_name": "cv_yoloNAS",
   "language": "python",
   "name": "python3"
  },
  "language_info": {
   "codemirror_mode": {
    "name": "ipython",
    "version": 3
   },
   "file_extension": ".py",
   "mimetype": "text/x-python",
   "name": "python",
   "nbconvert_exporter": "python",
   "pygments_lexer": "ipython3",
   "version": "3.10.9"
  }
 },
 "nbformat": 4,
 "nbformat_minor": 2
}
